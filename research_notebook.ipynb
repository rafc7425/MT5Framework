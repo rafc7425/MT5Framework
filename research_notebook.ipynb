{
 "cells": [
  {
   "cell_type": "code",
   "execution_count": 8,
   "metadata": {},
   "outputs": [],
   "source": [
    "import MetaTrader5 as mt5\n",
    "import os\n",
    "from dotenv import load_dotenv, find_dotenv\n",
    "import pandas as pd"
   ]
  },
  {
   "cell_type": "code",
   "execution_count": 9,
   "metadata": {},
   "outputs": [
    {
     "name": "stdout",
     "output_type": "stream",
     "text": [
      "mt5 opened successfully!\n"
     ]
    }
   ],
   "source": [
    "if mt5.initialize(\n",
    "            path=os.getenv(\"MT5_PATH\"),\n",
    "            login=int(os.getenv(\"MT5_LOGIN\")),\n",
    "            password=os.getenv(\"MT5_PASSWORD\"),\n",
    "            server=os.getenv(\"MT5_SERVER\"),\n",
    "            timeout=int(os.getenv(\"MT5_TIMEOUT\")),\n",
    "            portable=eval(os.getenv(\"MT5_PORTABLE\"))):\n",
    "\n",
    "            print(\"mt5 opened successfully!\")\n",
    "\n",
    "        "
   ]
  },
  {
   "cell_type": "code",
   "execution_count": 10,
   "metadata": {},
   "outputs": [
    {
     "data": {
      "text/html": [
       "<div>\n",
       "<style scoped>\n",
       "    .dataframe tbody tr th:only-of-type {\n",
       "        vertical-align: middle;\n",
       "    }\n",
       "\n",
       "    .dataframe tbody tr th {\n",
       "        vertical-align: top;\n",
       "    }\n",
       "\n",
       "    .dataframe thead th {\n",
       "        text-align: right;\n",
       "    }\n",
       "</style>\n",
       "<table border=\"1\" class=\"dataframe\">\n",
       "  <thead>\n",
       "    <tr style=\"text-align: right;\">\n",
       "      <th></th>\n",
       "      <th>time</th>\n",
       "      <th>open</th>\n",
       "      <th>high</th>\n",
       "      <th>low</th>\n",
       "      <th>close</th>\n",
       "      <th>tick_volume</th>\n",
       "      <th>spread</th>\n",
       "      <th>real_volume</th>\n",
       "    </tr>\n",
       "  </thead>\n",
       "  <tbody>\n",
       "    <tr>\n",
       "      <th>0</th>\n",
       "      <td>2025-02-21 20:00:00</td>\n",
       "      <td>1.04628</td>\n",
       "      <td>1.0468</td>\n",
       "      <td>1.04507</td>\n",
       "      <td>1.04622</td>\n",
       "      <td>5414</td>\n",
       "      <td>2</td>\n",
       "      <td>0</td>\n",
       "    </tr>\n",
       "  </tbody>\n",
       "</table>\n",
       "</div>"
      ],
      "text/plain": [
       "                 time     open    high      low    close  tick_volume  spread  \\\n",
       "0 2025-02-21 20:00:00  1.04628  1.0468  1.04507  1.04622         5414       2   \n",
       "\n",
       "   real_volume  \n",
       "0            0  "
      ]
     },
     "execution_count": 10,
     "metadata": {},
     "output_type": "execute_result"
    }
   ],
   "source": [
    "symbol = \"EURUSD\"\n",
    "tf = mt5.TIMEFRAME_H2\n",
    "from_position = 1\n",
    "num_bars = 1\n",
    "\n",
    "bars = pd.DataFrame(mt5.copy_rates_from_pos(symbol,tf,from_position,num_bars))\n",
    "bars['time'] = pd.to_datetime(bars['time'],unit='s')\n",
    "bars"
   ]
  },
  {
   "cell_type": "code",
   "execution_count": null,
   "metadata": {},
   "outputs": [],
   "source": []
  },
  {
   "cell_type": "code",
   "execution_count": 11,
   "metadata": {},
   "outputs": [
    {
     "data": {
      "text/plain": [
       "time           2025-02-21 20:00:00\n",
       "open                       1.04628\n",
       "high                        1.0468\n",
       "low                        1.04507\n",
       "close                      1.04622\n",
       "tick_volume                   5414\n",
       "spread                           2\n",
       "real_volume                      0\n",
       "Name: 0, dtype: object"
      ]
     },
     "execution_count": 11,
     "metadata": {},
     "output_type": "execute_result"
    }
   ],
   "source": [
    "bars.iloc[-1]"
   ]
  },
  {
   "cell_type": "code",
   "execution_count": 12,
   "metadata": {},
   "outputs": [
    {
     "data": {
      "text/plain": [
       "{'time': 1740357393,\n",
       " 'bid': 1.04653,\n",
       " 'ask': 1.04683,\n",
       " 'last': 0.0,\n",
       " 'volume': 0,\n",
       " 'time_msc': 1740357393518,\n",
       " 'flags': 1030,\n",
       " 'volume_real': 0.0}"
      ]
     },
     "execution_count": 12,
     "metadata": {},
     "output_type": "execute_result"
    }
   ],
   "source": [
    "tick = mt5.symbol_info_tick(\"EURUSD\")._asdict()\n",
    "tick"
   ]
  },
  {
   "cell_type": "code",
   "execution_count": 21,
   "metadata": {},
   "outputs": [],
   "source": [
    "def get_latest_tick(symbol: str) -> dict:\n",
    "    try:\n",
    "        tick = mt5.symbol_info_tick(symbol)\n",
    "        if tick is None:\n",
    "            print(f\"Unable to retrieve data for symbol {symbol}.\")\n",
    "            return {}  # Se devuelve aquí si no hay datos\n",
    "        return tick._asdict()  # Solo se ejecuta si tick no es None\n",
    "    except Exception as e:\n",
    "        print(f\"Something went wrong while retrieving the latest tick for {symbol}: {e}\")\n",
    "        return {}   "
   ]
  },
  {
   "cell_type": "code",
   "execution_count": 23,
   "metadata": {},
   "outputs": [
    {
     "data": {
      "text/plain": [
       "{'time': 1740357919,\n",
       " 'bid': 1.04718,\n",
       " 'ask': 1.04748,\n",
       " 'last': 0.0,\n",
       " 'volume': 0,\n",
       " 'time_msc': 1740357919167,\n",
       " 'flags': 1030,\n",
       " 'volume_real': 0.0}"
      ]
     },
     "execution_count": 23,
     "metadata": {},
     "output_type": "execute_result"
    }
   ],
   "source": [
    "last_tick = get_latest_tick(\"EURUSD\")\n",
    "last_tick"
   ]
  }
 ],
 "metadata": {
  "kernelspec": {
   "display_name": "mt5python",
   "language": "python",
   "name": "python3"
  },
  "language_info": {
   "codemirror_mode": {
    "name": "ipython",
    "version": 3
   },
   "file_extension": ".py",
   "mimetype": "text/x-python",
   "name": "python",
   "nbconvert_exporter": "python",
   "pygments_lexer": "ipython3",
   "version": "3.11.11"
  }
 },
 "nbformat": 4,
 "nbformat_minor": 2
}
