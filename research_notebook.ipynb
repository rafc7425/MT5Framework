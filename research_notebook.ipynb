{
 "cells": [
  {
   "cell_type": "code",
   "execution_count": 1,
   "metadata": {},
   "outputs": [],
   "source": [
    "import MetaTrader5 as mt5\n",
    "import os\n",
    "from dotenv import load_dotenv, find_dotenv\n",
    "import pandas as pd"
   ]
  },
  {
   "cell_type": "code",
   "execution_count": 2,
   "metadata": {},
   "outputs": [
    {
     "name": "stdout",
     "output_type": "stream",
     "text": [
      "mt5 opened successfully!\n"
     ]
    }
   ],
   "source": [
    "if mt5.initialize(\n",
    "            path=os.getenv(\"MT5_PATH\"),\n",
    "            login=int(os.getenv(\"MT5_LOGIN\")),\n",
    "            password=os.getenv(\"MT5_PASSWORD\"),\n",
    "            server=os.getenv(\"MT5_SERVER\"),\n",
    "            timeout=int(os.getenv(\"MT5_TIMEOUT\")),\n",
    "            portable=eval(os.getenv(\"MT5_PORTABLE\"))):\n",
    "\n",
    "            print(\"mt5 opened successfully!\")\n",
    "\n",
    "        "
   ]
  },
  {
   "cell_type": "code",
   "execution_count": 3,
   "metadata": {},
   "outputs": [
    {
     "data": {
      "text/html": [
       "<div>\n",
       "<style scoped>\n",
       "    .dataframe tbody tr th:only-of-type {\n",
       "        vertical-align: middle;\n",
       "    }\n",
       "\n",
       "    .dataframe tbody tr th {\n",
       "        vertical-align: top;\n",
       "    }\n",
       "\n",
       "    .dataframe thead th {\n",
       "        text-align: right;\n",
       "    }\n",
       "</style>\n",
       "<table border=\"1\" class=\"dataframe\">\n",
       "  <thead>\n",
       "    <tr style=\"text-align: right;\">\n",
       "      <th></th>\n",
       "      <th>time</th>\n",
       "      <th>open</th>\n",
       "      <th>high</th>\n",
       "      <th>low</th>\n",
       "      <th>close</th>\n",
       "      <th>tick_volume</th>\n",
       "      <th>spread</th>\n",
       "      <th>real_volume</th>\n",
       "    </tr>\n",
       "  </thead>\n",
       "  <tbody>\n",
       "    <tr>\n",
       "      <th>0</th>\n",
       "      <td>2025-02-12 20:00:00</td>\n",
       "      <td>1.04261</td>\n",
       "      <td>1.04298</td>\n",
       "      <td>1.03846</td>\n",
       "      <td>1.03909</td>\n",
       "      <td>4232</td>\n",
       "      <td>3</td>\n",
       "      <td>0</td>\n",
       "    </tr>\n",
       "  </tbody>\n",
       "</table>\n",
       "</div>"
      ],
      "text/plain": [
       "                 time     open     high      low    close  tick_volume  \\\n",
       "0 2025-02-12 20:00:00  1.04261  1.04298  1.03846  1.03909         4232   \n",
       "\n",
       "   spread  real_volume  \n",
       "0       3            0  "
      ]
     },
     "execution_count": 3,
     "metadata": {},
     "output_type": "execute_result"
    }
   ],
   "source": [
    "symbol = \"EURUSD\"\n",
    "tf = mt5.TIMEFRAME_H2\n",
    "from_position = 1\n",
    "num_bars = 1\n",
    "\n",
    "bars = pd.DataFrame(mt5.copy_rates_from_pos(symbol,tf,from_position,num_bars))\n",
    "bars['time'] = pd.to_datetime(bars['time'],unit='s')\n",
    "bars"
   ]
  },
  {
   "cell_type": "code",
   "execution_count": null,
   "metadata": {},
   "outputs": [],
   "source": []
  },
  {
   "cell_type": "code",
   "execution_count": 4,
   "metadata": {},
   "outputs": [
    {
     "data": {
      "text/plain": [
       "time           2025-02-12 20:00:00\n",
       "open                       1.04261\n",
       "high                       1.04298\n",
       "low                        1.03846\n",
       "close                      1.03909\n",
       "tick_volume                   4232\n",
       "spread                           3\n",
       "real_volume                      0\n",
       "Name: 0, dtype: object"
      ]
     },
     "execution_count": 4,
     "metadata": {},
     "output_type": "execute_result"
    }
   ],
   "source": [
    "bars.iloc[-1]"
   ]
  }
 ],
 "metadata": {
  "kernelspec": {
   "display_name": "mt5python",
   "language": "python",
   "name": "python3"
  },
  "language_info": {
   "codemirror_mode": {
    "name": "ipython",
    "version": 3
   },
   "file_extension": ".py",
   "mimetype": "text/x-python",
   "name": "python",
   "nbconvert_exporter": "python",
   "pygments_lexer": "ipython3",
   "version": "3.11.11"
  }
 },
 "nbformat": 4,
 "nbformat_minor": 2
}
